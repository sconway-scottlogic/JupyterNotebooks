{
  "nbformat": 4,
  "nbformat_minor": 0,
  "metadata": {
    "colab": {
      "provenance": [],
      "gpuType": "V100",
      "toc_visible": true
    },
    "kernelspec": {
      "name": "python3",
      "display_name": "Python 3"
    },
    "language_info": {
      "name": "python"
    },
    "accelerator": "GPU"
  },
  "cells": [
    {
      "cell_type": "markdown",
      "source": [
        "# A very quick demonstration of using the fastai library\n",
        "\n",
        "- This Jupyter worksheet will show how to create a couple of models that identify digits from the MNIST data set of hand written digits.\n",
        "  - How to load the data and get it into a form that fastai code can use.\n",
        "  - How to fine-tune an existing trained model to categorize the MNIST digits.\n",
        "  - How to construct and train a very simple model from scratch to categorize\n",
        "    the MNIST digits.\n",
        "- I will discuss some useful resources\n",
        "  - Training data repositories\n",
        "  - Model repositories\n",
        "  - The fast.ai course (Parts 1 and 2)\n"
      ],
      "metadata": {
        "id": "F4gSEygHPaQW"
      }
    },
    {
      "cell_type": "markdown",
      "source": [
        "# What is fast.ai?\n",
        "\n",
        "Fast.ai is a non-profit research group focused on deep learning and artificial intelligence. They want to make deep learning as accessible as possible.\n",
        "\n",
        "They have an on-line course [\"Practical Deep Learning for Coders\"](https://course.fast.ai/).\n",
        "\n",
        "The fastai library is built on top of PyTorch which aims to make it easy to create and apply deep learning models to problems. A lot of functionality is provided by default but can be overridden as required."
      ],
      "metadata": {
        "id": "CSBtWoyaok0o"
      }
    },
    {
      "cell_type": "markdown",
      "source": [
        "# How to run this notebook\n",
        "\n",
        "This is a [Jupyter](https://jupyter.org/) notebook. Jupyter notebooks are a combination of test and runnable Python code, and are commonly used in the machine learning community.\n",
        "\n",
        "There is an introduction to Jupyter notebooks on [Kaggle](https://www.kaggle.com/code/jhoward/jupyter-notebook-101).\n",
        "\n",
        "You can run Jupyter notebooks locally, if you install the required software, using your own CPU and GPU.\n",
        "\n",
        "Alternatively (and more easily), you can run Jupyter notebooks in a number of environments with support for machine learning:\n",
        "\n",
        "- [Kaggle](https://www.kaggle.com/)\n",
        "- [Paperspace Gradient](https://docs.paperspace.com/gradient/notebooks)\n",
        "- [Google CoLab](https://colab.research.google.com/)\n",
        "\n",
        "I have been using CoLab, which provides access to lower level GPUs for free (though there is a limited pool of them), or you can pay for access to faster GPUs."
      ],
      "metadata": {
        "id": "QpDtWe3sQaXa"
      }
    },
    {
      "cell_type": "markdown",
      "source": [
        "# Get the libraries we need"
      ],
      "metadata": {
        "id": "u8NNF-i_f9Yz"
      }
    },
    {
      "cell_type": "code",
      "execution_count": null,
      "metadata": {
        "id": "5J597bjHgckP"
      },
      "outputs": [],
      "source": [
        "# Install the libraries we need\n",
        "!pip install -Uqq fastai\n",
        "!pip install -Uqq datasets  # Huggingface datasets"
      ]
    },
    {
      "cell_type": "code",
      "source": [
        "# Import what we need\n",
        "from datasets import load_dataset,load_dataset_builder\n",
        "from fastai.data.all import *\n",
        "from fastai.vision.all import *"
      ],
      "metadata": {
        "id": "4QHx3uNxgjr7"
      },
      "execution_count": null,
      "outputs": []
    },
    {
      "cell_type": "markdown",
      "source": [
        "# Load the MNIST data set and get it ready for use\n",
        "\n",
        "The MNIST data set is a labelled set of 70,000 hand written digits. We will load it from the Hugging Face repo, [here](https://huggingface.co/datasets/mnist).\n",
        "\n",
        "Classifying the MNIST data set was a common target of machine learning research. It is probably not so interesting now as it is a fairly simple problem."
      ],
      "metadata": {
        "id": "X2FAdhpvIb74"
      }
    },
    {
      "cell_type": "markdown",
      "source": [
        "First we will get an idea of what is in the dataset."
      ],
      "metadata": {
        "id": "CEpAMW-NgkVW"
      }
    },
    {
      "cell_type": "code",
      "source": [
        "# Load a dataset builder, and get the description of the dataset.\n",
        "ds_builder = load_dataset_builder('mnist')\n",
        "print(ds_builder.info.description)"
      ],
      "metadata": {
        "id": "qR6c60mSlM3z"
      },
      "execution_count": null,
      "outputs": []
    },
    {
      "cell_type": "markdown",
      "source": [
        "Each item in the dataset consists of an image and a label."
      ],
      "metadata": {
        "id": "cJdoOOY_KS0Q"
      }
    },
    {
      "cell_type": "code",
      "source": [
        "ds_builder.info.features"
      ],
      "metadata": {
        "id": "mnI_pRafiCUF"
      },
      "execution_count": null,
      "outputs": []
    },
    {
      "cell_type": "markdown",
      "source": [
        "The dataset builder just retrieved metadata about the MNIST dataset. Now we will actually load the dataset."
      ],
      "metadata": {
        "id": "QLiNvYZkQtme"
      }
    },
    {
      "cell_type": "code",
      "source": [
        "mnist_dsd = load_dataset('mnist')"
      ],
      "metadata": {
        "id": "SSDaIrxFmblM"
      },
      "execution_count": null,
      "outputs": []
    },
    {
      "cell_type": "markdown",
      "source": [
        "The data is split into train and test datasets."
      ],
      "metadata": {
        "id": "IqTRTxCgKDlo"
      }
    },
    {
      "cell_type": "code",
      "source": [
        "mnist_dsd"
      ],
      "metadata": {
        "id": "EIAiRrqUJ_uX"
      },
      "execution_count": null,
      "outputs": []
    },
    {
      "cell_type": "markdown",
      "source": [
        "If we look at the first item in the training dataset we can see it consists of a dictionary containing a PNG image and the label `5`."
      ],
      "metadata": {
        "id": "Cv0vtUuHLBPX"
      }
    },
    {
      "cell_type": "code",
      "source": [
        "mnist_dsd['train'][0]"
      ],
      "metadata": {
        "id": "FalxhKovK5c2"
      },
      "execution_count": null,
      "outputs": []
    },
    {
      "cell_type": "markdown",
      "source": [
        "We need to get the Hugging Face training dataset into a form that the fastai code understands. To do this we create a `DataBlock`, which specifies how to get each item from the dataset and how to split it into the x (input) and y (target) values.\n",
        "\n",
        "\n",
        "\n"
      ],
      "metadata": {
        "id": "fG8A0mVWLK3F"
      }
    },
    {
      "cell_type": "code",
      "source": [
        "dblock = DataBlock(blocks    = (ImageBlock, CategoryBlock),              # Specify what kind of things the inputs and targets are\n",
        "                   get_items = lambda ds: ds,                            # Don't need to do anything to the items in the dataset list\n",
        "                   get_x     = lambda item: item['image'],               # Get the input value using the 'image' key\n",
        "                   get_y     = lambda item: f\"{item['label']}\",          # Get the target value using the 'label' key\n",
        "                   splitter  = RandomSplitter(valid_pct=0.2, seed=42),   # Randomly split into 80% training data, 20% validation data. Specify the seed to make it reproducible.\n",
        "                   item_tfms = Resize(224)                               # Resize the images to 224x224 to match the resnet18 input size\n",
        "                   )"
      ],
      "metadata": {
        "id": "vEhUKnn1rS-C"
      },
      "execution_count": null,
      "outputs": []
    },
    {
      "cell_type": "markdown",
      "source": [
        "The images will be resized from 28x28 to 224x224, which is the size that the `resnet18` model expects. The resizing will use the default interpolation mode (`BILINEAR`), but we could have specified one to use. The pipeline will also convert the PNG images to tensors for us.\n",
        "\n",
        "It is also possible to use a `batch_tfms` parameter to specify a transform to apply when a batch is fetched, to randomly rotate, flip, crop or shift images, so that slightly different versions of the image are used in each training epoch. This can improve performance on previously unseen data. I am not doing this here."
      ],
      "metadata": {
        "id": "IgJwT5urkTc6"
      }
    },
    {
      "cell_type": "code",
      "source": [
        "# Uncomment and run the summary method if you want to know more about the pipeline the DataBlock will run\n",
        "dblock.summary(mnist_dsd['train'])"
      ],
      "metadata": {
        "id": "XOKcFRGWtgzV"
      },
      "execution_count": null,
      "outputs": []
    },
    {
      "cell_type": "markdown",
      "source": [
        "Use the `DataBlock` to load the training dataset into a `DataLoaders` object."
      ],
      "metadata": {
        "id": "BTApMN-JN22y"
      }
    },
    {
      "cell_type": "code",
      "source": [
        "mnist_dls = dblock.dataloaders(mnist_dsd['train'])"
      ],
      "metadata": {
        "id": "2vS-Dtr36AO3"
      },
      "execution_count": null,
      "outputs": []
    },
    {
      "cell_type": "markdown",
      "source": [
        "The `DataLoaders` object now contains a training dataloader and a validation dataloader."
      ],
      "metadata": {
        "id": "RXXptlWljDM0"
      }
    },
    {
      "cell_type": "code",
      "source": [
        "mnist_dls.train.bs, mnist_dls.valid.bs"
      ],
      "metadata": {
        "id": "iR8p6qySOES5"
      },
      "execution_count": null,
      "outputs": []
    },
    {
      "cell_type": "markdown",
      "source": [
        "\n",
        "\n",
        "The training and validation data has batch sizes of 64. This is the default. We could have specified it when we created the dataloaders, but 64 is fine.\n",
        "\n",
        "A batch will be processed in one set of matrix operations by the GPU. The larger the batch, the quicker training will run, but if the batch size is too large then the GPU will run out of memory."
      ],
      "metadata": {
        "id": "EArHTzf-OPqP"
      }
    },
    {
      "cell_type": "markdown",
      "source": [
        "Show some items from a training batch."
      ],
      "metadata": {
        "id": "cyjrx8yZN902"
      }
    },
    {
      "cell_type": "code",
      "source": [
        "mnist_dls.train.show_batch(max_n=4, nrows=1, cmap='gray')"
      ],
      "metadata": {
        "id": "43qVOH5m6ZYq"
      },
      "execution_count": null,
      "outputs": []
    },
    {
      "cell_type": "markdown",
      "source": [
        "And from a validation batch."
      ],
      "metadata": {
        "id": "TB12fY-RPOtY"
      }
    },
    {
      "cell_type": "code",
      "source": [
        "mnist_dls.valid.show_batch(max_n=4, nrows=1, cmap='gray')"
      ],
      "metadata": {
        "id": "APb_66Hy6-56"
      },
      "execution_count": null,
      "outputs": []
    },
    {
      "cell_type": "markdown",
      "source": [
        "# Fine-tune a ResNet-18 model\n",
        "\n",
        "ResNet-18 is an 18 layer [convolutional neural network](https://saturncloud.io/blog/a-comprehensive-guide-to-convolutional-neural-networks-the-eli5-way/).\n",
        "\n",
        "Residual networks use \"residual connections\" which sum the output of one layer with the input of that layer or an earlier layer (a skip connection). These have been found to help with training.\n",
        "\n",
        "The model we will download has been trained on more than a million images from the ImageNet database. The pretrained network can classify images into 1000 object categories, such as keyboard, mouse, pencil, and many animals.\n",
        "\n",
        "We will fine-tune the model for our digit recognition task, changing the output to be 1-of-10 and training on the specific task."
      ],
      "metadata": {
        "id": "Ba57Snz-3jsa"
      }
    },
    {
      "cell_type": "markdown",
      "source": [
        "![Residual Block](data:image/png;base64,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)\n",
        "\n",
        "*(Image is from Wikipedia, author LunarLullaby, CC BY-SA 4.0 license declaration [here](https://en.wikipedia.org/wiki/File:ResBlock.png))*\n"
      ],
      "metadata": {
        "id": "ep1KBK5iPVx6"
      }
    },
    {
      "cell_type": "markdown",
      "source": [
        "ResNets of various sizes are a popular choice for image classification tasks.\n",
        "\n",
        "A `Learner` for vision processing is created by calling `vision_learner` and passing in our mnist dataloaders and the `resnet18` pretrained model from PyTorch. A number of [models](https://pytorch.org/vision/stable/models.html#classification) are available from PyTorch, including [ResNet models](https://pytorch.org/vision/stable/models/resnet.html)."
      ],
      "metadata": {
        "id": "4-d5xz_V3qvA"
      }
    },
    {
      "cell_type": "markdown",
      "source": [
        "## Download and fine-tune a ResNet-18 model"
      ],
      "metadata": {
        "id": "Fo7-58F9oyRt"
      }
    },
    {
      "cell_type": "markdown",
      "source": [
        "The Learner is created from\n",
        "\n",
        "- `mnist_dls` - the dataloaders containing our training and validation data.\n",
        "- `resnet18` - a pretrained Resnet-18 model from PyTorch.\n",
        "- `metrics=error_rate` - we use the error rate as our metric (compare the digit with the highest probability in our output with the target digit).\n",
        "- `cbs=ShowGraphCallback()` - use a callback to display a progress graph during training.\n",
        "\n",
        "The optimization function defaults to the [Adam](https://docs.fast.ai/optimizer.html#adam-1) optimizer, which uses momentum and adaptive learning rates to improve on the traditional stochastic gradient descent algorithm. See\n",
        "[here](https://www.aiplusinfo.com/blog/what-is-the-adam-optimizer-and-how-is-it-used-in-machine-learning/) for a discussion of Adam..\n",
        "\n",
        "The loss function defaults to [CrossEntropyLoss](https://pytorch.org/docs/stable/generated/torch.nn.CrossEntropyLoss.html), which is an appropriate loss function to use here."
      ],
      "metadata": {
        "id": "KyfO-ToWP6O-"
      }
    },
    {
      "cell_type": "code",
      "source": [
        "learn = vision_learner(mnist_dls, resnet18, metrics=error_rate, cbs=ShowGraphCallback())"
      ],
      "metadata": {
        "id": "W50vGwERDHp0"
      },
      "execution_count": null,
      "outputs": []
    },
    {
      "cell_type": "code",
      "source": [
        "learn.summary()"
      ],
      "metadata": {
        "id": "fKQtsRwsDJiR"
      },
      "execution_count": null,
      "outputs": []
    },
    {
      "cell_type": "markdown",
      "source": [
        "The output has been changed from the thousand categories used in the original model to 10 outputs representing each of the digits.\n",
        "\n",
        "Our fine-tuning training consists of\n",
        "- One training epoch with only the output block trainable, and the rest of the model frozen.\n",
        "- Three epochs training the entire model."
      ],
      "metadata": {
        "id": "DP_ErXU2Vcje"
      }
    },
    {
      "cell_type": "code",
      "source": [
        "learn.fine_tune(3)"
      ],
      "metadata": {
        "id": "lLoqDOc-i5-w"
      },
      "execution_count": null,
      "outputs": []
    },
    {
      "cell_type": "markdown",
      "source": [
        "## Take a look at the errors"
      ],
      "metadata": {
        "id": "d_1MVm3BGIHe"
      }
    },
    {
      "cell_type": "markdown",
      "source": [
        "`ClassificationInterpretation` is a tool for examining the output of a classification learner."
      ],
      "metadata": {
        "id": "vI-NkfWq0cov"
      }
    },
    {
      "cell_type": "code",
      "source": [
        "interp = ClassificationInterpretation.from_learner(learn)"
      ],
      "metadata": {
        "id": "TCMds2o0DX11"
      },
      "execution_count": null,
      "outputs": []
    },
    {
      "cell_type": "markdown",
      "source": [
        "Taking a look at the confusion matrix, the most frequent confusions are what we would expect; `5` identified as `3`, `9` identified as `6` or `4`, `7` identified as `1` or `2`.\n",
        "\n",
        "Note: On different runs through training the model has had different confusions."
      ],
      "metadata": {
        "id": "ViGalRBs0mM8"
      }
    },
    {
      "cell_type": "code",
      "source": [
        "interp.plot_confusion_matrix()"
      ],
      "metadata": {
        "id": "JrFMQ0uztXm-"
      },
      "execution_count": null,
      "outputs": []
    },
    {
      "cell_type": "markdown",
      "source": [
        "Looking at the worst misses, they either seem to be mislabelled or they are unrecognizable as a digit."
      ],
      "metadata": {
        "id": "WCtkCbrlGVsP"
      }
    },
    {
      "cell_type": "code",
      "source": [
        "interp.plot_top_losses(k = 9)"
      ],
      "metadata": {
        "id": "TV3bdJfZMECS"
      },
      "execution_count": null,
      "outputs": []
    },
    {
      "cell_type": "markdown",
      "source": [
        "## Check the accuracy on the test data set"
      ],
      "metadata": {
        "id": "jgY-q6Py_NwG"
      }
    },
    {
      "cell_type": "markdown",
      "source": [
        "Create a dataloader for the test data set."
      ],
      "metadata": {
        "id": "M-ByK3dD_WDH"
      }
    },
    {
      "cell_type": "code",
      "source": [
        "mnist_test_dl = mnist_dls.test_dl(mnist_dsd['train'], with_labels=True)"
      ],
      "metadata": {
        "id": "lRprbwo-2m53"
      },
      "execution_count": null,
      "outputs": []
    },
    {
      "cell_type": "markdown",
      "source": [
        "Show the first few items in the test dataloader."
      ],
      "metadata": {
        "id": "eeG35sYj_Zir"
      }
    },
    {
      "cell_type": "code",
      "source": [
        "mnist_test_dl.show_batch(max_n=4, nrows=1, cmap='gray')"
      ],
      "metadata": {
        "id": "3QJo9Yzp4IyX"
      },
      "execution_count": null,
      "outputs": []
    },
    {
      "cell_type": "markdown",
      "source": [
        "Get predictions for the test data set from the model."
      ],
      "metadata": {
        "id": "saSSeSHR_gYw"
      }
    },
    {
      "cell_type": "code",
      "source": [
        "preds, targs = learn.get_preds(dl=mnist_test_dl)"
      ],
      "metadata": {
        "id": "qpY6dqu33gF6"
      },
      "execution_count": null,
      "outputs": []
    },
    {
      "cell_type": "markdown",
      "source": [
        "Let's look at the first prediction and target."
      ],
      "metadata": {
        "id": "llUW0FWy_0aN"
      }
    },
    {
      "cell_type": "code",
      "source": [
        "print(preds[0], targs[0])\n",
        "\n",
        "import matplotlib.pyplot as plt\n",
        "labels = [f\"{n}\" for n in range(preds[0].size(dim=0))]\n",
        "plt.bar(labels, preds[0].tolist(), align='center', color=['forestgreen'], log=True)\n",
        "plt.xlabel('Digit')\n",
        "plt.ylabel('Probability')\n",
        "plt.show()"
      ],
      "metadata": {
        "id": "5QY25nuNAAPS"
      },
      "execution_count": null,
      "outputs": []
    },
    {
      "cell_type": "markdown",
      "source": [
        "You can see that the item with the highest probability is at index 5, which matches the target value of '5'.\n",
        "\n",
        "The next highest probabilities are for '3' and '8', which makes sense. They are much smaller though (< 0.001), which is why I used a log scale for the y-axis."
      ],
      "metadata": {
        "id": "MhGo2U6m7JjS"
      }
    },
    {
      "cell_type": "markdown",
      "source": [
        "Computing the overall accuracy, it is pretty good. Maybe better than the validation set accuracy. Perhaps the test set was checked over more thoroughly?"
      ],
      "metadata": {
        "id": "ZY-Gh9X7AEsP"
      }
    },
    {
      "cell_type": "code",
      "source": [
        "error_rate(preds, targs)"
      ],
      "metadata": {
        "id": "T4rS5u9X-Rtv"
      },
      "execution_count": null,
      "outputs": []
    },
    {
      "cell_type": "markdown",
      "source": [
        "# Creating a simple model from scratch"
      ],
      "metadata": {
        "id": "oCjmh2uWjeZ1"
      }
    },
    {
      "cell_type": "markdown",
      "source": [
        "## Reload the data, with no resizing of the image\n",
        "\n",
        "The previous DBlock resized the images so they matched what resnet-18 expected.\n",
        "\n",
        "We don't want a 224x224 input size for our simple neural network.\n",
        "\n",
        "We will load the data again, this time keeping the image size to 28x28."
      ],
      "metadata": {
        "id": "yC7yRneKNZ-G"
      }
    },
    {
      "cell_type": "code",
      "source": [
        "simple_dblock = DataBlock(blocks    = (ImageBlock, CategoryBlock),       # Specify what kind of things the inputs and targets are\n",
        "                   get_items = lambda ds: ds,                            # Don't need to do anything to the items in the dataset list\n",
        "                   get_x     = lambda item: item['image'],               # Get the input value using the 'image' key\n",
        "                   get_y     = lambda item: f\"{item['label']}\",          # Get the target value using the 'label' key\n",
        "                   splitter  = RandomSplitter(valid_pct=0.2, seed=42)    # Randomly split into 80% training data, 20% validation data. Specify the seed to make it reproducible.\n",
        "                   )"
      ],
      "metadata": {
        "id": "rAS9sKsJ-Sl5"
      },
      "execution_count": null,
      "outputs": []
    },
    {
      "cell_type": "code",
      "source": [
        "simple_mnist_dls = simple_dblock.dataloaders(mnist_dsd['train'])"
      ],
      "metadata": {
        "id": "govYYXctj50i"
      },
      "execution_count": null,
      "outputs": []
    },
    {
      "cell_type": "markdown",
      "source": [
        "Let's check some items from a training batch."
      ],
      "metadata": {
        "id": "oaSE3JoskK9H"
      }
    },
    {
      "cell_type": "code",
      "source": [
        "simple_mnist_dls.train.dataset"
      ],
      "metadata": {
        "id": "wMH3Qh4N-yT6"
      },
      "execution_count": null,
      "outputs": []
    },
    {
      "cell_type": "code",
      "source": [
        "simple_mnist_dls.train.show_batch(max_n=4, nrows=1, cmap='gray')"
      ],
      "metadata": {
        "id": "IftdKDeQkMHl"
      },
      "execution_count": null,
      "outputs": []
    },
    {
      "cell_type": "markdown",
      "source": [
        "## Define a simple neural network\n",
        "\n",
        "TODO describe the NN structure\n",
        "\n",
        "If we check the input sizes, we see that the input data is a 28*28 tensor. The Linear layer is expecting a tensor with a single dimension, so we need to flatten it first.\n"
      ],
      "metadata": {
        "id": "ld1vvq9bOJBj"
      }
    },
    {
      "cell_type": "code",
      "source": [
        "xb, yb = simple_mnist_dls.one_batch()\n",
        "xb.shape, yb.shape, simple_mnist_dls.c"
      ],
      "metadata": {
        "id": "2y9wVAwcJvoJ"
      },
      "execution_count": null,
      "outputs": []
    },
    {
      "cell_type": "code",
      "source": [
        "simple_net = torch.nn.Sequential(\n",
        "    Flatten(),\n",
        "    torch.nn.Linear(28*28,100),\n",
        "    torch.nn.ReLU(),\n",
        "    torch.nn.Linear(100,10),\n",
        "    torch.nn.ReLU(),\n",
        "    torch.nn.Linear(10,10)\n",
        "  )"
      ],
      "metadata": {
        "id": "70cWjjzEn6CP"
      },
      "execution_count": null,
      "outputs": []
    },
    {
      "cell_type": "markdown",
      "source": [
        "The Learner is created from\n",
        "\n",
        "- `simple_mnist_dls` - the dataloaders containing our training and validation data.\n",
        "- `simple_net` - our simple neural network model.\n",
        "- `opt_func=Adam` - we use the [Adam](https://docs.fast.ai/optimizer.html#adam-1) optimiser, which uses momentum and adaptive learning rates to improve on the traditional stochastic gradient descent algorithm. See\n",
        "[here](https://www.aiplusinfo.com/blog/what-is-the-adam-optimizer-and-how-is-it-used-in-machine-learning/) for a discussion of Adam.\n",
        "- `metrics=error_rate` - we use the error rate as our metric (compare the digit with the highest probability in our output with the target digit).\n",
        "- `cbs=ShowGraphCallback()` - use a callback to display a graph during training.\n",
        "\n",
        "The loss function defaults to [CrossEntropyLoss](https://pytorch.org/docs/stable/generated/torch.nn.CrossEntropyLoss.html), which is an appropriate loss function to use here."
      ],
      "metadata": {
        "id": "vbWNsFqqpj4Z"
      }
    },
    {
      "cell_type": "code",
      "source": [
        "simple_learn = Learner(simple_mnist_dls, simple_net, opt_func=Adam, metrics=error_rate, cbs=ShowGraphCallback())"
      ],
      "metadata": {
        "id": "nTAImLaEb9cj"
      },
      "execution_count": null,
      "outputs": []
    },
    {
      "cell_type": "markdown",
      "source": [
        "Take a look at the summary of the Learner.\n",
        "\n",
        "Note that the input and output shapes are `68 x ...` because our batch size is 64. The processing of the entire batch is bundled into one sequence of matrix operations, which can be efficiently run on a GPU."
      ],
      "metadata": {
        "id": "TtCECixKvO7I"
      }
    },
    {
      "cell_type": "code",
      "source": [
        "simple_learn.summary()"
      ],
      "metadata": {
        "id": "SGnbTcHRKm-l"
      },
      "execution_count": null,
      "outputs": []
    },
    {
      "cell_type": "markdown",
      "source": [
        "Run the learning rate finder tool to get a suitable starting learning rate.\n",
        "\n",
        "Note that the Adam optimizer will adjust the learning rate per weight as the Learner is run."
      ],
      "metadata": {
        "id": "uhClCDV0v-F_"
      }
    },
    {
      "cell_type": "code",
      "source": [
        "simple_learn.lr_find()"
      ],
      "metadata": {
        "id": "lJ5iWA8ycJ9r"
      },
      "execution_count": null,
      "outputs": []
    },
    {
      "cell_type": "code",
      "source": [
        "simple_learn.lr = 0.004"
      ],
      "metadata": {
        "id": "uYRTVjAjccQ5"
      },
      "execution_count": null,
      "outputs": []
    },
    {
      "cell_type": "markdown",
      "source": [
        "The model starts with a random set of weights, unlike the ResNet-18 model which was pretrained on a larger and more general purpose training set.\n",
        "\n",
        "From experimentation, the validation loss didn't really improve after about 5 epochs."
      ],
      "metadata": {
        "id": "5jj8nz5Xycog"
      }
    },
    {
      "cell_type": "code",
      "source": [
        "simple_learn.fit(5)"
      ],
      "metadata": {
        "id": "9F4K3lxFckIf"
      },
      "execution_count": null,
      "outputs": []
    },
    {
      "cell_type": "markdown",
      "source": [
        "So, the final error rate during training of our simple model was about 3%.\n",
        "\n",
        "Training just the output layer of the pretrained ResNet-18 model gave an error of 2.7%, and training fully for three epochs gave a final training error of 0.5%."
      ],
      "metadata": {
        "id": "IN49idoVzoYc"
      }
    },
    {
      "cell_type": "markdown",
      "source": [
        "## Check the accuracy on the test data set"
      ],
      "metadata": {
        "id": "Z-W1vrkL1jcs"
      }
    },
    {
      "cell_type": "markdown",
      "source": [
        "Create a dataloader for the test data set."
      ],
      "metadata": {
        "id": "3_bwJVwV1qBW"
      }
    },
    {
      "cell_type": "code",
      "source": [
        "simple_mnist_test_dl = simple_mnist_dls.test_dl(mnist_dsd['train'], with_labels=True)"
      ],
      "metadata": {
        "id": "Nvsb8__jciOf"
      },
      "execution_count": null,
      "outputs": []
    },
    {
      "cell_type": "markdown",
      "source": [
        "Get predictions for the test data set from the model."
      ],
      "metadata": {
        "id": "Snzwwh1n2E8J"
      }
    },
    {
      "cell_type": "code",
      "source": [
        "preds, targs = simple_learn.get_preds(dl=simple_mnist_test_dl)"
      ],
      "metadata": {
        "id": "awEBNv4E2KOp"
      },
      "execution_count": null,
      "outputs": []
    },
    {
      "cell_type": "code",
      "source": [
        "error_rate(preds, targs)"
      ],
      "metadata": {
        "id": "BWRv0eJF2UXJ"
      },
      "execution_count": null,
      "outputs": []
    },
    {
      "cell_type": "markdown",
      "source": [
        "Error on the test set is about 1.9%, compared to about 0.13% for the ResNet-18 model.\n",
        "\n",
        "Our simple model has 7,9620 trainable parameters (weights), whereas Resnet-18 has 18 layers of convolutions, 542,080 trainable parameters and 11,166,912 non-trainable parameters.\n",
        "\n",
        "Note that by current standards, ResNet-18 is a very simple model.\n",
        "\n",
        "State of the art on the MNIST classication task in 2020 was a 0.13% error rate, according to [Papers With Code](https://paperswithcode.com/sota/image-classification-on-mnist). That was with a CNN (convolutional neural network) model with 1,514,187 trainable parameters.\n",
        "\n",
        "\n",
        "\n"
      ],
      "metadata": {
        "id": "8P2PTaM02WzC"
      }
    },
    {
      "cell_type": "markdown",
      "source": [
        "# Comments\n",
        "\n",
        "## Building the demo\n",
        "\n",
        "The hardest part of preparing this notebook was getting the loaded datasets into the `DataLoaders` object via a `DataBlock`. I hadn't seen any examples using HuggingFace data, and I hadn't taken in everything I needed about how to use `DataBlock`s in the previous examples I had worked through. Now I have been through the process I understand it better.\n",
        "\n",
        "Creating the Resnet-18 example was straight-forward, until I got to the point of wanting to evaluate the test data. Again it took me some time to figure out how to get the test dataset into something I could run with the trained model.\n",
        "\n",
        "My main issue with creating my own simple model was I hadn't realized how straight-forward it was. After defining the layers, I thought I had to do more to define the model. But no, all I needed to do was supply the layers to the `Learner` and specify the optimization function.\n",
        "\n",
        "The fast.ai framework is built on top of PyTorch and many of the components it uses, such as the optimizers and metrics, are from PyTorch. This can make it harder when you are stuck as a web search will often give you PyTorch examples. You do see how PyTorch is much lower level and requires much more code.\n",
        "\n",
        "## Suggestions\n",
        "\n",
        "The fastai library makes it easy to experiment.\n",
        "\n",
        "You could:\n",
        "\n",
        "- Change how the digits are scaled up to 224x224 for the resnet-18 model.\n",
        "- Add augmentation to the training data.\n",
        "- Run for more epochs and see how the validation loss increases after a certain point, even though the training loss is still decreasing (a sign of overtraining).\n",
        "- Change the simple network model\n",
        "  - More layers\n",
        "  - Fewer layers\n",
        "  - Bigger or smaller layers\n",
        "  - Convolutions - probably directly after the input"
      ],
      "metadata": {
        "id": "spEFO3LCWeTV"
      }
    },
    {
      "cell_type": "markdown",
      "source": [
        "# Resources\n",
        "\n",
        "## Data repositories\n",
        "\n",
        "It is much easier to use existing data sets than to create your own, and it makes it easy to compare your results.\n",
        "\n",
        "- [Fast.ai](https://docs.fast.ai/data.external.html#datasets)\n",
        "- [Kaggle](https://www.kaggle.com/datasets)\n",
        "- [Hugging Face](https://huggingface.co/datasets)\n",
        "- [PyTorch](https://pytorch.org/vision/stable/datasets.html)\n",
        "\n",
        "## Model repositories\n",
        "\n",
        "- [PyTorch](https://pytorch.org/vision/main/models.html)\n",
        "- [Hugging Face](https://huggingface.co/models)\n",
        "- [Kaggle](https://www.kaggle.com/models)\n",
        "\n",
        "## Competitions\n",
        "\n",
        "- [Kaggle](https://www.kaggle.com/competitions)"
      ],
      "metadata": {
        "id": "sfMyCxLlh7pX"
      }
    },
    {
      "cell_type": "markdown",
      "source": [
        "# The fast.ai course\n",
        "\n",
        "Fast.ai have a free course [\"Practical Deep Learning for Coders\"](https://course.fast.ai/).\n",
        "\n",
        "The course consists of video lessons presented by Jeremy Howard, co-founder of fast.ai and veteran of several ML based companies. There are Jupyter notebooks for the lessons, which are available from GitHub, and also on CoLab and possibly in other environments which support Jupyter notebooks.\n",
        "\n",
        "There is an emphasis on practical application and experimentation.\n",
        "\n",
        "## Part 1\n",
        "\n",
        "Part one of the course gives a high-level introduction to ML and deep-learning using neural networks, using the fastai library. It dives straight into gathering data and applying maching learning to solve practical problems.\n",
        "\n",
        "- [Part 1 Introduction](https://course.fast.ai/Lessons/lesson1.html)\n",
        "- [Notebooks on GitHub](https://github.com/fastai/course22)\n",
        "\n",
        "## Part 2\n",
        "\n",
        "Part two of the course dives deeper into details of implementation. It doesn't actually use the fastai library but instead builds up its own \"miniai\" library from scratch. The initial stages start with basics such as matrix multiplication, but once implemented switch to using the PyTorch implementations.\n",
        "\n",
        "The course eventually builds the components needed to implement Stable Diffusion. Implementing the Stable Diffusion model covers most of the commonly used deep learning components.  \n",
        "\n",
        "- [Part 2 Overview](https://course.fast.ai/Lessons/part2.html)\n",
        "- [Notebooks on GitHub](https://github.com/fastai/course22p2)"
      ],
      "metadata": {
        "id": "2pMl3drbVlgb"
      }
    }
  ]
}