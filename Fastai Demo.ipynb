{
  "nbformat": 4,
  "nbformat_minor": 0,
  "metadata": {
    "colab": {
      "provenance": [],
      "gpuType": "V100",
      "toc_visible": true
    },
    "kernelspec": {
      "name": "python3",
      "display_name": "Python 3"
    },
    "language_info": {
      "name": "python"
    },
    "accelerator": "GPU"
  },
  "cells": [
    {
      "cell_type": "markdown",
      "source": [
        "# A very quick demonstration of using the fastai library\n",
        "\n",
        "- This Jupyter worksheet will show how to create a couple of models that identify digits from the MNIST data set of hand written digits.\n",
        "  - How to load the data and get it into a form that fastai code can use.\n",
        "  - How to fine-tune an existing trained model to categorize the MNIST digits.\n",
        "  - How to construct and train a very simple model from scratch to categorize\n",
        "    the MNIST digits.\n",
        "- I will discuss some useful resources\n",
        "  - Training data repositories\n",
        "  - Model repositories\n",
        "  - The fast.ai course (Parts 1 and 2)\n",
        "\n",
        " - <a href="https://colab.research.google.com/github/sconway-scottlogic/JupyterNotebooks/blob/main/Fastai%20Demo.ipynb" target="_parent"><img src="https://colab.research.google.com/assets/colab-badge.svg" alt="Open In Colab"/></a>\n"
      ],
      "metadata": {
        "id": "F4gSEygHPaQW"
      }
    },
    {
      "cell_type": "markdown",
      "source": [
        "# What is fast.ai?\n",
        "\n",
        "Fast.ai is a non-profit research group focused on deep learning and artificial intelligence. They want to make deep learning as accessible as possible.\n",
        "\n",
        "They have an on-line course [\"Practical Deep Learning for Coders\"](https://course.fast.ai/).\n",
        "\n",
        "The fastai library is built on top of PyTorch which aims to make it easy to create and apply deep learning models to problems. A lot of functionality is provided by default but can be overridden as required."
      ],
      "metadata": {
        "id": "CSBtWoyaok0o"
      }
    },
    {
      "cell_type": "markdown",
      "source": [
        "# How to run this notebook\n",
        "\n",
        "This is a [Jupyter](https://jupyter.org/) notebook. Jupyter notebooks are a combination of test and runnable Python code, and are commonly used in the machine learning community.\n",
        "\n",
        "There is an introduction to Jupyter notebooks on [Kaggle](https://www.kaggle.com/code/jhoward/jupyter-notebook-101).\n",
        "\n",
        "You can run Jupyter notebooks locally, if you install the required software, using your own CPU and GPU.\n",
        "\n",
        "Alternatively (and more easily), you can run Jupyter notebooks in a number of environments with support for machine learning:\n",
        "\n",
        "- [Kaggle](https://www.kaggle.com/)\n",
        "- [Paperspace Gradient](https://docs.paperspace.com/gradient/notebooks)\n",
        "- [Google CoLab](https://colab.research.google.com/)\n",
        "\n",
        "I have been using CoLab, which provides access to lower level GPUs for free (though there is a limited pool of them), or you can pay for access to faster GPUs."
      ],
      "metadata": {
        "id": "QpDtWe3sQaXa"
      }
    },
    {
      "cell_type": "markdown",
      "source": [
        "# Get the libraries we need"
      ],
      "metadata": {
        "id": "u8NNF-i_f9Yz"
      }
    },
    {
      "cell_type": "code",
      "execution_count": null,
      "metadata": {
        "id": "5J597bjHgckP"
      },
      "outputs": [],
      "source": [
        "# Install the libraries we need\n",
        "!pip install -Uqq fastai\n",
        "!pip install -Uqq datasets  # Huggingface datasets"
      ]
    },
    {
      "cell_type": "code",
      "source": [
        "# Import what we need\n",
        "from datasets import load_dataset,load_dataset_builder\n",
        "from fastai.data.all import *\n",
        "from fastai.vision.all import *"
      ],
      "metadata": {
        "id": "4QHx3uNxgjr7"
      },
      "execution_count": null,
      "outputs": []
    },
    {
      "cell_type": "markdown",
      "source": [
        "# Load the MNIST data set and get it ready for use\n",
        "\n",
        "The MNIST data set is a labelled set of 70,000 hand written digits. We will load it from the Hugging Face repo, [here](https://huggingface.co/datasets/mnist).\n",
        "\n",
        "Classifying the MNIST data set was a common target of machine learning research. It is probably not so interesting now as it is a fairly simple problem."
      ],
      "metadata": {
        "id": "X2FAdhpvIb74"
      }
    },
    {
      "cell_type": "markdown",
      "source": [
        "First we will get an idea of what is in the dataset."
      ],
      "metadata": {
        "id": "CEpAMW-NgkVW"
      }
    },
    {
      "cell_type": "code",
      "source": [
        "# Load a dataset builder, and get the description of the dataset.\n",
        "ds_builder = load_dataset_builder('mnist')\n",
        "print(ds_builder.info.description)"
      ],
      "metadata": {
        "id": "qR6c60mSlM3z"
      },
      "execution_count": null,
      "outputs": []
    },
    {
      "cell_type": "markdown",
      "source": [
        "Each item in the dataset consists of an image and a label."
      ],
      "metadata": {
        "id": "cJdoOOY_KS0Q"
      }
    },
    {
      "cell_type": "code",
      "source": [
        "ds_builder.info.features"
      ],
      "metadata": {
        "id": "mnI_pRafiCUF"
      },
      "execution_count": null,
      "outputs": []
    },
    {
      "cell_type": "markdown",
      "source": [
        "The dataset builder just retrieved metadata about the MNIST dataset. Now we will actually load the dataset."
      ],
      "metadata": {
        "id": "QLiNvYZkQtme"
      }
    },
    {
      "cell_type": "code",
      "source": [
        "mnist_dsd = load_dataset('mnist')"
      ],
      "metadata": {
        "id": "SSDaIrxFmblM"
      },
      "execution_count": null,
      "outputs": []
    },
    {
      "cell_type": "markdown",
      "source": [
        "The data is split into train and test datasets."
      ],
      "metadata": {
        "id": "IqTRTxCgKDlo"
      }
    },
    {
      "cell_type": "code",
      "source": [
        "mnist_dsd"
      ],
      "metadata": {
        "id": "EIAiRrqUJ_uX"
      },
      "execution_count": null,
      "outputs": []
    },
    {
      "cell_type": "markdown",
      "source": [
        "If we look at the first item in the training dataset we can see it consists of a dictionary containing a PNG image and the label `5`."
      ],
      "metadata": {
        "id": "Cv0vtUuHLBPX"
      }
    },
    {
      "cell_type": "code",
      "source": [
        "mnist_dsd['train'][0]"
      ],
      "metadata": {
        "id": "FalxhKovK5c2"
      },
      "execution_count": null,
      "outputs": []
    },
    {
      "cell_type": "markdown",
      "source": [
        "We need to get the Hugging Face training dataset into a form that the fastai code understands. To do this we create a `DataBlock`, which specifies how to get each item from the dataset and how to split it into the x (input) and y (target) values.\n",
        "\n",
        "\n",
        "\n"
      ],
      "metadata": {
        "id": "fG8A0mVWLK3F"
      }
    },
    {
      "cell_type": "code",
      "source": [
        "dblock = DataBlock(blocks    = (ImageBlock, CategoryBlock),              # Specify what kind of things the inputs and targets are\n",
        "                   get_items = lambda ds: ds,                            # Don't need to do anything to the items in the dataset list\n",
        "                   get_x     = lambda item: item['image'],               # Get the input value using the 'image' key\n",
        "                   get_y     = lambda item: f\"{item['label']}\",          # Get the target value using the 'label' key\n",
        "                   splitter  = RandomSplitter(valid_pct=0.2, seed=42),   # Randomly split into 80% training data, 20% validation data. Specify the seed to make it reproducible.\n",
        "                   item_tfms = Resize(224)                               # Resize the images to 224x224 to match the resnet18 input size\n",
        "                   )"
      ],
      "metadata": {
        "id": "vEhUKnn1rS-C"
      },
      "execution_count": null,
      "outputs": []
    },
    {
      "cell_type": "markdown",
      "source": [
        "The images will be resized from 28x28 to 224x224, which is the size that the `resnet18` model expects. The resizing will use the default interpolation mode (`BILINEAR`), but we could have specified one to use. The pipeline will also convert the PNG images to tensors for us.\n",
        "\n",
        "It is also possible to use a `batch_tfms` parameter to specify a transform to apply when a batch is fetched, to randomly rotate, flip, crop or shift images, so that slightly different versions of the image are used in each training epoch. This can improve performance on previously unseen data. I am not doing this here."
      ],
      "metadata": {
        "id": "IgJwT5urkTc6"
      }
    },
    {
      "cell_type": "code",
      "source": [
        "# Uncomment and run the summary method if you want to know more about the pipeline the DataBlock will run\n",
        "# dblock.summary(mnist_dsd['train'])"
      ],
      "metadata": {
        "id": "XOKcFRGWtgzV"
      },
      "execution_count": null,
      "outputs": []
    },
    {
      "cell_type": "markdown",
      "source": [
        "Use the `DataBlock` to load the training dataset into a `DataLoaders` object."
      ],
      "metadata": {
        "id": "BTApMN-JN22y"
      }
    },
    {
      "cell_type": "code",
      "source": [
        "mnist_dls = dblock.dataloaders(mnist_dsd['train'])"
      ],
      "metadata": {
        "id": "2vS-Dtr36AO3"
      },
      "execution_count": null,
      "outputs": []
    },
    {
      "cell_type": "markdown",
      "source": [
        "The `DataLoaders` object now contains a training dataloader and a validation dataloader."
      ],
      "metadata": {
        "id": "RXXptlWljDM0"
      }
    },
    {
      "cell_type": "code",
      "source": [
        "mnist_dls.train.bs, mnist_dls.valid.bs"
      ],
      "metadata": {
        "id": "iR8p6qySOES5"
      },
      "execution_count": null,
      "outputs": []
    },
    {
      "cell_type": "markdown",
      "source": [
        "\n",
        "\n",
        "The training and validation data has batch sizes of 64. This is the default. We could have specified it when we created the dataloaders, but 64 is fine.\n",
        "\n",
        "A batch will be processed in one set of matrix operations by the GPU. The larger the batch, the quicker training will run, but if the batch size is too large then the GPU will run out of memory."
      ],
      "metadata": {
        "id": "EArHTzf-OPqP"
      }
    },
    {
      "cell_type": "markdown",
      "source": [
        "Show some items from a training batch."
      ],
      "metadata": {
        "id": "cyjrx8yZN902"
      }
    },
    {
      "cell_type": "code",
      "source": [
        "mnist_dls.train.show_batch(max_n=4, nrows=1, cmap='gray')"
      ],
      "metadata": {
        "id": "43qVOH5m6ZYq"
      },
      "execution_count": null,
      "outputs": []
    },
    {
      "cell_type": "markdown",
      "source": [
        "And from a validation batch."
      ],
      "metadata": {
        "id": "TB12fY-RPOtY"
      }
    },
    {
      "cell_type": "code",
      "source": [
        "mnist_dls.valid.show_batch(max_n=4, nrows=1, cmap='gray')"
      ],
      "metadata": {
        "id": "APb_66Hy6-56"
      },
      "execution_count": null,
      "outputs": []
    },
    {
      "cell_type": "markdown",
      "source": [
        "# Fine-tune a ResNet-18 model\n",
        "\n",
        "ResNet-18 is an 18 layer [convolutional neural network](https://saturncloud.io/blog/a-comprehensive-guide-to-convolutional-neural-networks-the-eli5-way/).\n",
        "\n",
        "Residual networks use \"residual connections\" which sum the output of one layer with the input of that layer or an earlier layer (a skip connection). These have been found to help with training.\n",
        "\n",
        "The model we will download has been trained on more than a million images from the ImageNet database. The pretrained network can classify images into 1000 object categories, such as keyboard, mouse, pencil, and many animals.\n",
        "\n",
        "We will fine-tune the model for our digit recognition task, changing the output to be 1-of-10 and training on the specific task."
      ],
      "metadata": {
        "id": "Ba57Snz-3jsa"
      }
    },
    {
      "cell_type": "markdown",
      "source": [
        "A residual connection.\n",
        "\n",
        "![Residual Block](data:image/png;base64,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)\n",
        "\n",
        "*(Image is from Wikipedia, author LunarLullaby, CC BY-SA 4.0 license declaration [here](https://en.wikipedia.org/wiki/File:ResBlock.png))*\n"
      ],
      "metadata": {
        "id": "ep1KBK5iPVx6"
      }
    },
    {
      "cell_type": "markdown",
      "source": [
        "ResNets of various sizes are a popular choice for image classification tasks.\n",
        "\n",
        "A `Learner` for vision processing is created by calling `vision_learner` and passing in our mnist dataloaders and the `resnet18` pretrained model from PyTorch. A number of [models](https://pytorch.org/vision/stable/models.html#classification) are available from PyTorch, including [ResNet models](https://pytorch.org/vision/stable/models/resnet.html)."
      ],
      "metadata": {
        "id": "4-d5xz_V3qvA"
      }
    },
    {
      "cell_type": "markdown",
      "source": [
        "## Download and fine-tune a ResNet-18 model"
      ],
      "metadata": {
        "id": "Fo7-58F9oyRt"
      }
    },
    {
      "cell_type": "markdown",
      "source": [
        "The Learner is created from\n",
        "\n",
        "- `mnist_dls` - the dataloaders containing our training and validation data.\n",
        "- `resnet18` - a pretrained Resnet-18 model from PyTorch.\n",
        "- `metrics=error_rate` - we use the error rate as our metric (compare the digit with the highest probability in our output with the target digit).\n",
        "- `cbs=ShowGraphCallback()` - use a callback to display a progress graph during training.\n",
        "\n",
        "The optimization function defaults to the [Adam](https://docs.fast.ai/optimizer.html#adam-1) optimizer, which uses momentum and adaptive learning rates to improve on the traditional stochastic gradient descent algorithm. See\n",
        "[here](https://www.aiplusinfo.com/blog/what-is-the-adam-optimizer-and-how-is-it-used-in-machine-learning/) for a discussion of Adam..\n",
        "\n",
        "The loss function defaults to [CrossEntropyLoss](https://pytorch.org/docs/stable/generated/torch.nn.CrossEntropyLoss.html), which is an appropriate loss function to use here."
      ],
      "metadata": {
        "id": "KyfO-ToWP6O-"
      }
    },
    {
      "cell_type": "code",
      "source": [
        "learn = vision_learner(mnist_dls, resnet18, metrics=error_rate, cbs=ShowGraphCallback())"
      ],
      "metadata": {
        "id": "W50vGwERDHp0"
      },
      "execution_count": null,
      "outputs": []
    },
    {
      "cell_type": "code",
      "source": [
        "learn.summary()"
      ],
      "metadata": {
        "id": "fKQtsRwsDJiR"
      },
      "execution_count": null,
      "outputs": []
    },
    {
      "cell_type": "markdown",
      "source": [
        "The output has been changed from the thousand categories used in the original model to 10 outputs representing each of the digits.\n",
        "\n",
        "Our fine-tuning training consists of\n",
        "- One training epoch with only the output block trainable, and the rest of the model frozen.\n",
        "- Three epochs training the entire model."
      ],
      "metadata": {
        "id": "DP_ErXU2Vcje"
      }
    },
    {
      "cell_type": "code",
      "source": [
        "learn.fine_tune(3)"
      ],
      "metadata": {
        "id": "lLoqDOc-i5-w"
      },
      "execution_count": null,
      "outputs": []
    },
    {
      "cell_type": "markdown",
      "source": [
        "## Take a look at the errors"
      ],
      "metadata": {
        "id": "d_1MVm3BGIHe"
      }
    },
    {
      "cell_type": "markdown",
      "source": [
        "`ClassificationInterpretation` is a tool for examining the output of a classification learner."
      ],
      "metadata": {
        "id": "vI-NkfWq0cov"
      }
    },
    {
      "cell_type": "code",
      "source": [
        "interp = ClassificationInterpretation.from_learner(learn)"
      ],
      "metadata": {
        "id": "TCMds2o0DX11"
      },
      "execution_count": null,
      "outputs": []
    },
    {
      "cell_type": "markdown",
      "source": [
        "Taking a look at the confusion matrix, the most frequent confusions are what we would expect; `5` identified as `3`, `9` identified as `6` or `4`, `7` identified as `1` or `2`.\n",
        "\n",
        "Note: On different runs through training the model has had different confusions."
      ],
      "metadata": {
        "id": "ViGalRBs0mM8"
      }
    },
    {
      "cell_type": "code",
      "source": [
        "interp.plot_confusion_matrix()"
      ],
      "metadata": {
        "id": "JrFMQ0uztXm-"
      },
      "execution_count": null,
      "outputs": []
    },
    {
      "cell_type": "markdown",
      "source": [
        "Looking at the worst misses, they either seem to be mislabelled or they are unrecognizable as a digit."
      ],
      "metadata": {
        "id": "WCtkCbrlGVsP"
      }
    },
    {
      "cell_type": "code",
      "source": [
        "interp.plot_top_losses(k = 9)"
      ],
      "metadata": {
        "id": "TV3bdJfZMECS"
      },
      "execution_count": null,
      "outputs": []
    },
    {
      "cell_type": "markdown",
      "source": [
        "## Check the accuracy on the test data set"
      ],
      "metadata": {
        "id": "jgY-q6Py_NwG"
      }
    },
    {
      "cell_type": "markdown",
      "source": [
        "Create a dataloader for the test data set."
      ],
      "metadata": {
        "id": "M-ByK3dD_WDH"
      }
    },
    {
      "cell_type": "code",
      "source": [
        "mnist_test_dl = mnist_dls.test_dl(mnist_dsd['train'], with_labels=True)"
      ],
      "metadata": {
        "id": "lRprbwo-2m53"
      },
      "execution_count": null,
      "outputs": []
    },
    {
      "cell_type": "markdown",
      "source": [
        "Show the first few items in the test dataloader."
      ],
      "metadata": {
        "id": "eeG35sYj_Zir"
      }
    },
    {
      "cell_type": "code",
      "source": [
        "mnist_test_dl.show_batch(max_n=4, nrows=1, cmap='gray')"
      ],
      "metadata": {
        "id": "3QJo9Yzp4IyX"
      },
      "execution_count": null,
      "outputs": []
    },
    {
      "cell_type": "markdown",
      "source": [
        "Get predictions for the test data set from the model."
      ],
      "metadata": {
        "id": "saSSeSHR_gYw"
      }
    },
    {
      "cell_type": "code",
      "source": [
        "preds, targs = learn.get_preds(dl=mnist_test_dl)"
      ],
      "metadata": {
        "id": "qpY6dqu33gF6"
      },
      "execution_count": null,
      "outputs": []
    },
    {
      "cell_type": "markdown",
      "source": [
        "Let's look at the first prediction and target."
      ],
      "metadata": {
        "id": "llUW0FWy_0aN"
      }
    },
    {
      "cell_type": "code",
      "source": [
        "print(preds[0], targs[0])\n",
        "\n",
        "import matplotlib.pyplot as plt\n",
        "labels = [f\"{n}\" for n in range(preds[0].size(dim=0))]\n",
        "plt.bar(labels, preds[0].tolist(), align='center', color=['forestgreen'], log=True)\n",
        "plt.xlabel('Digit')\n",
        "plt.ylabel('Probability')\n",
        "plt.show()"
      ],
      "metadata": {
        "id": "5QY25nuNAAPS"
      },
      "execution_count": null,
      "outputs": []
    },
    {
      "cell_type": "markdown",
      "source": [
        "You can see that the item with the highest probability is at index 5, which matches the target value of '5'.\n",
        "\n",
        "The next highest probabilities are for '3' and '8', which makes sense. They are much smaller though (< 0.001), which is why I used a log scale for the y-axis."
      ],
      "metadata": {
        "id": "MhGo2U6m7JjS"
      }
    },
    {
      "cell_type": "markdown",
      "source": [
        "Computing the overall accuracy, it is pretty good. Maybe better than the validation set accuracy. Perhaps the test set was checked over more thoroughly?"
      ],
      "metadata": {
        "id": "ZY-Gh9X7AEsP"
      }
    },
    {
      "cell_type": "code",
      "source": [
        "error_rate(preds, targs)"
      ],
      "metadata": {
        "id": "T4rS5u9X-Rtv"
      },
      "execution_count": null,
      "outputs": []
    },
    {
      "cell_type": "markdown",
      "source": [
        "# Creating a simple model from scratch"
      ],
      "metadata": {
        "id": "oCjmh2uWjeZ1"
      }
    },
    {
      "cell_type": "markdown",
      "source": [
        "## Reload the data, with no resizing of the image\n",
        "\n",
        "The previous DBlock resized the images so they matched what resnet-18 expected.\n",
        "\n",
        "We don't want a 224x224 input size for our simple neural network.\n",
        "\n",
        "We will load the data again, this time keeping the image size to 28x28."
      ],
      "metadata": {
        "id": "yC7yRneKNZ-G"
      }
    },
    {
      "cell_type": "code",
      "source": [
        "simple_dblock = DataBlock(blocks    = (ImageBlock, CategoryBlock),       # Specify what kind of things the inputs and targets are\n",
        "                   get_items = lambda ds: ds,                            # Don't need to do anything to the items in the dataset list\n",
        "                   get_x     = lambda item: item['image'],               # Get the input value using the 'image' key\n",
        "                   get_y     = lambda item: f\"{item['label']}\",          # Get the target value using the 'label' key\n",
        "                   splitter  = RandomSplitter(valid_pct=0.2, seed=42)    # Randomly split into 80% training data, 20% validation data. Specify the seed to make it reproducible.\n",
        "                   )"
      ],
      "metadata": {
        "id": "rAS9sKsJ-Sl5"
      },
      "execution_count": null,
      "outputs": []
    },
    {
      "cell_type": "code",
      "source": [
        "simple_mnist_dls = simple_dblock.dataloaders(mnist_dsd['train'])"
      ],
      "metadata": {
        "id": "govYYXctj50i"
      },
      "execution_count": null,
      "outputs": []
    },
    {
      "cell_type": "markdown",
      "source": [
        "Let's check some items from a training batch."
      ],
      "metadata": {
        "id": "oaSE3JoskK9H"
      }
    },
    {
      "cell_type": "code",
      "source": [
        "simple_mnist_dls.train.dataset"
      ],
      "metadata": {
        "id": "wMH3Qh4N-yT6"
      },
      "execution_count": null,
      "outputs": []
    },
    {
      "cell_type": "code",
      "source": [
        "simple_mnist_dls.train.show_batch(max_n=4, nrows=1, cmap='gray')"
      ],
      "metadata": {
        "id": "IftdKDeQkMHl"
      },
      "execution_count": null,
      "outputs": []
    },
    {
      "cell_type": "markdown",
      "source": [
        "## Define a simple neural network\n",
        "\n",
        "We will create a simple neural network with the following structure:\n",
        "\n",
        "![Simple network](data:image/png;base64,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)\n",
        "\n",
        "We map the 784 pixels of the image to a 100 value layer using fully connected weights and a ReLu activation function.\n",
        "\n",
        "Then we map the 100 value layer to a 10 value layer using fully connected weights and a ReLu activation function.\n",
        "\n",
        "Finally we map the 10 value layer to another 10 value output later using fully connected weights.\n",
        "\n",
        "If we check the input sizes, we see that the input data is a 28*28 tensor. The Linear layer is expecting a tensor with a single dimension, so we need to flatten it first.\n"
      ],
      "metadata": {
        "id": "ld1vvq9bOJBj"
      }
    },
    {
      "cell_type": "code",
      "source": [
        "xb, yb = simple_mnist_dls.one_batch()\n",
        "xb.shape, yb.shape, simple_mnist_dls.c"
      ],
      "metadata": {
        "id": "2y9wVAwcJvoJ"
      },
      "execution_count": null,
      "outputs": []
    },
    {
      "cell_type": "code",
      "source": [
        "simple_net = torch.nn.Sequential(\n",
        "    Flatten(),\n",
        "    torch.nn.Linear(28*28,100),\n",
        "    torch.nn.ReLU(),\n",
        "    torch.nn.Linear(100,10),\n",
        "    torch.nn.ReLU(),\n",
        "    torch.nn.Linear(10,10)\n",
        "  )"
      ],
      "metadata": {
        "id": "70cWjjzEn6CP"
      },
      "execution_count": null,
      "outputs": []
    },
    {
      "cell_type": "markdown",
      "source": [
        "The ReLU (rectified linear unit) activation function is\n",
        "\n",
        "ReLU(x) = max(0,x)\n",
        "\n",
        "![ReLU function](data:image/png;base64,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)\n",
        "\n",
        "Values less than 0 are mapped to 0, otherwise they are mapped to themselves.\n",
        "The ReLU activation function adds a non-linearity to the overall function represented by the network. This allows the network as a whole to approximate any function better than a linear function (straight line/plane) would.\n",
        "\n",
        "ReLU has several advantages over the traditional sigmoid function used in early neural network research:\n",
        "\n",
        "- It is computationally simple to calculate\n",
        "- It avoids the problem of error gradients tending to zero as they propagate backwards through the network."
      ],
      "metadata": {
        "id": "3jWAAZ0DbXKJ"
      }
    },
    {
      "cell_type": "markdown",
      "source": [
        "The Learner is created from\n",
        "\n",
        "- `simple_mnist_dls` - the dataloaders containing our training and validation data.\n",
        "- `simple_net` - our simple neural network model.\n",
        "- `opt_func=Adam` - we use the [Adam](https://docs.fast.ai/optimizer.html#adam-1) optimiser, which uses momentum and adaptive learning rates to improve on the traditional stochastic gradient descent algorithm. See\n",
        "[here](https://www.aiplusinfo.com/blog/what-is-the-adam-optimizer-and-how-is-it-used-in-machine-learning/) for a discussion of Adam.\n",
        "- `metrics=error_rate` - we use the error rate as our metric (compare the digit with the highest probability in our output with the target digit).\n",
        "- `cbs=ShowGraphCallback()` - use a callback to display a graph during training.\n",
        "\n",
        "The loss function defaults to [CrossEntropyLoss](https://pytorch.org/docs/stable/generated/torch.nn.CrossEntropyLoss.html), which is an appropriate loss function to use here."
      ],
      "metadata": {
        "id": "vbWNsFqqpj4Z"
      }
    },
    {
      "cell_type": "code",
      "source": [
        "simple_learn = Learner(simple_mnist_dls, simple_net, opt_func=Adam, metrics=error_rate, cbs=ShowGraphCallback())"
      ],
      "metadata": {
        "id": "nTAImLaEb9cj"
      },
      "execution_count": null,
      "outputs": []
    },
    {
      "cell_type": "markdown",
      "source": [
        "Take a look at the summary of the Learner.\n",
        "\n",
        "Note that the input and output shapes are `68 x ...` because our batch size is 64. The processing of the entire batch is bundled into one sequence of matrix operations, which can be efficiently run on a GPU."
      ],
      "metadata": {
        "id": "TtCECixKvO7I"
      }
    },
    {
      "cell_type": "code",
      "source": [
        "simple_learn.summary()"
      ],
      "metadata": {
        "id": "SGnbTcHRKm-l"
      },
      "execution_count": null,
      "outputs": []
    },
    {
      "cell_type": "markdown",
      "source": [
        "Run the learning rate finder tool to get a suitable starting learning rate.\n",
        "\n",
        "Note that the Adam optimizer will adjust the learning rate per weight as the Learner is run."
      ],
      "metadata": {
        "id": "uhClCDV0v-F_"
      }
    },
    {
      "cell_type": "code",
      "source": [
        "simple_learn.lr_find()"
      ],
      "metadata": {
        "id": "lJ5iWA8ycJ9r"
      },
      "execution_count": null,
      "outputs": []
    },
    {
      "cell_type": "code",
      "source": [
        "simple_learn.lr = 0.004"
      ],
      "metadata": {
        "id": "uYRTVjAjccQ5"
      },
      "execution_count": null,
      "outputs": []
    },
    {
      "cell_type": "markdown",
      "source": [
        "The model starts with a random set of weights, unlike the ResNet-18 model which was pretrained on a larger and more general purpose training set.\n",
        "\n",
        "From experimentation, the validation loss didn't really improve after about 5 epochs."
      ],
      "metadata": {
        "id": "5jj8nz5Xycog"
      }
    },
    {
      "cell_type": "code",
      "source": [
        "simple_learn.fit(5)"
      ],
      "metadata": {
        "id": "9F4K3lxFckIf"
      },
      "execution_count": null,
      "outputs": []
    },
    {
      "cell_type": "markdown",
      "source": [
        "So, the final error rate during training of our simple model was about 3%.\n",
        "\n",
        "Training just the output layer of the pretrained ResNet-18 model gave an error of 2.7%, and training fully for three epochs gave a final training error of 0.5%."
      ],
      "metadata": {
        "id": "IN49idoVzoYc"
      }
    },
    {
      "cell_type": "markdown",
      "source": [
        "## Check the accuracy on the test data set"
      ],
      "metadata": {
        "id": "Z-W1vrkL1jcs"
      }
    },
    {
      "cell_type": "markdown",
      "source": [
        "Create a dataloader for the test data set."
      ],
      "metadata": {
        "id": "3_bwJVwV1qBW"
      }
    },
    {
      "cell_type": "code",
      "source": [
        "simple_mnist_test_dl = simple_mnist_dls.test_dl(mnist_dsd['train'], with_labels=True)"
      ],
      "metadata": {
        "id": "Nvsb8__jciOf"
      },
      "execution_count": null,
      "outputs": []
    },
    {
      "cell_type": "markdown",
      "source": [
        "Get predictions for the test data set from the model."
      ],
      "metadata": {
        "id": "Snzwwh1n2E8J"
      }
    },
    {
      "cell_type": "code",
      "source": [
        "preds, targs = simple_learn.get_preds(dl=simple_mnist_test_dl)"
      ],
      "metadata": {
        "id": "awEBNv4E2KOp"
      },
      "execution_count": null,
      "outputs": []
    },
    {
      "cell_type": "code",
      "source": [
        "error_rate(preds, targs)"
      ],
      "metadata": {
        "id": "BWRv0eJF2UXJ"
      },
      "execution_count": null,
      "outputs": []
    },
    {
      "cell_type": "markdown",
      "source": [
        "Error on the test set is about 1.9%, compared to about 0.13% for the ResNet-18 model.\n",
        "\n",
        "Our simple model has 79,620 trainable parameters (weights), whereas Resnet-18 has 18 layers of convolutions, 542,080 trainable parameters and 11,166,912 non-trainable parameters.\n",
        "\n",
        "Note that by current standards, ResNet-18 is a very simple model.\n",
        "\n",
        "State of the art on the MNIST classication task in 2020 was a 0.13% error rate, according to [Papers With Code](https://paperswithcode.com/sota/image-classification-on-mnist). That was with a CNN (convolutional neural network) model with 1,514,187 trainable parameters.\n",
        "\n",
        "\n",
        "\n"
      ],
      "metadata": {
        "id": "8P2PTaM02WzC"
      }
    },
    {
      "cell_type": "markdown",
      "source": [
        "# Comments\n",
        "\n",
        "## Building the demo\n",
        "\n",
        "The hardest part of preparing this notebook was getting the loaded datasets into the `DataLoaders` object via a `DataBlock`. I hadn't seen any examples using HuggingFace data, and I hadn't taken in everything I needed about how to use `DataBlock`s in the previous examples I had worked through. Now I have been through the process I understand it better.\n",
        "\n",
        "Creating the Resnet-18 example was straight-forward, until I got to the point of wanting to evaluate the test data. Again it took me some time to figure out how to get the test dataset into something I could run with the trained model.\n",
        "\n",
        "My main issue with creating my own simple model was I hadn't realized how straight-forward it was. After defining the layers, I thought I had to do more to define the model. But no, all I needed to do was supply the layers to the `Learner` and specify the optimization function.\n",
        "\n",
        "The fast.ai framework is built on top of PyTorch and many of the components it uses, such as the optimizers and metrics, are from PyTorch. This can make it harder when you are stuck as a web search will often give you PyTorch examples. You do see how PyTorch is much lower level and requires much more code.\n",
        "\n",
        "## Suggestions\n",
        "\n",
        "The fastai library makes it easy to experiment.\n",
        "\n",
        "You could:\n",
        "\n",
        "- Change how the digits are scaled up to 224x224 for the resnet-18 model.\n",
        "- Add augmentation to the training data.\n",
        "- Run for more epochs and see how the validation loss increases after a certain point, even though the training loss is still decreasing (a sign of overtraining).\n",
        "- Use [EarlyStoppingCallback](https://docs.fast.ai/callback.tracker.html#earlystoppingcallback) to stop training when the validation loss stops improving, and use [SaveModelCallback](https://docs.fast.ai/callback.tracker.html#savemodelcallback) to save the model with the best validation loss.\n",
        "- Change the simple network model\n",
        "  - More layers\n",
        "  - Fewer layers (the final mapping without Relu might not give us anything useful)\n",
        "  - Bigger or smaller layers\n",
        "  - Convolutions - probably directly after the input\n",
        "\n",
        "## Observations\n",
        "\n",
        "Fastai isn't the only library attempting to make executing a training loop easy. For instance, PyTorch has the [Trainer](https://lightning.ai/docs/pytorch/stable/common/trainer.html) class, which provides defaults and a `fit` method in a similar fashion to fastai's `Learner`."
      ],
      "metadata": {
        "id": "spEFO3LCWeTV"
      }
    },
    {
      "cell_type": "markdown",
      "source": [
        "# Resources\n",
        "\n",
        "## Data repositories\n",
        "\n",
        "It is much easier to use existing data sets than to create your own, and it makes it easy to compare your results.\n",
        "\n",
        "- [Fast.ai](https://docs.fast.ai/data.external.html#datasets)\n",
        "- [Kaggle](https://www.kaggle.com/datasets)\n",
        "- [Hugging Face](https://huggingface.co/datasets)\n",
        "- [PyTorch](https://pytorch.org/vision/stable/datasets.html)\n",
        "\n",
        "## Model repositories\n",
        "\n",
        "- [PyTorch](https://pytorch.org/vision/main/models.html)\n",
        "- [Hugging Face](https://huggingface.co/models)\n",
        "- [Kaggle](https://www.kaggle.com/models)\n",
        "\n",
        "## Competitions\n",
        "\n",
        "- [Kaggle](https://www.kaggle.com/competitions)"
      ],
      "metadata": {
        "id": "sfMyCxLlh7pX"
      }
    },
    {
      "cell_type": "markdown",
      "source": [
        "# The fast.ai course\n",
        "\n",
        "Fast.ai have a free course [\"Practical Deep Learning for Coders\"](https://course.fast.ai/).\n",
        "\n",
        "The course consists of video lessons presented by Jeremy Howard, co-founder of fast.ai and veteran of several ML based companies. There are Jupyter notebooks for the lessons, which are available from GitHub, and also on CoLab and possibly in other environments which support Jupyter notebooks.\n",
        "\n",
        "There is an emphasis on practical application and experimentation.\n",
        "\n",
        "## Part 1\n",
        "\n",
        "Part one of the course gives a high-level introduction to ML and deep-learning using neural networks, using the fastai library. It dives straight into gathering data and applying maching learning to solve practical problems.\n",
        "\n",
        "- [Part 1 Introduction](https://course.fast.ai/Lessons/lesson1.html)\n",
        "- [Notebooks on GitHub](https://github.com/fastai/course22)\n",
        "\n",
        "## Part 2\n",
        "\n",
        "Part two of the course dives deeper into details of implementation. It doesn't actually use the fastai library but instead builds up its own \"miniai\" library from scratch. The initial stages start with basics such as matrix multiplication, but once implemented switch to using the PyTorch implementations.\n",
        "\n",
        "The course eventually builds the components needed to implement Stable Diffusion. Implementing the Stable Diffusion model covers most of the commonly used deep learning components.  \n",
        "\n",
        "- [Part 2 Overview](https://course.fast.ai/Lessons/part2.html)\n",
        "- [Notebooks on GitHub](https://github.com/fastai/course22p2)"
      ],
      "metadata": {
        "id": "2pMl3drbVlgb"
      }
    }
  ]
}
